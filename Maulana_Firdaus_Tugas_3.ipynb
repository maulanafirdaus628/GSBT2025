{
  "nbformat": 4,
  "nbformat_minor": 0,
  "metadata": {
    "colab": {
      "provenance": []
    },
    "kernelspec": {
      "name": "python3",
      "display_name": "Python 3"
    },
    "language_info": {
      "name": "python"
    }
  },
  "cells": [
    {
      "cell_type": "markdown",
      "source": [
        "# BayesianSearchCV\n",
        "\n",
        "1. Apa itu hyperparameter tuning?\n",
        "  \n",
        "   Proses mencari nilai hyperparameter terbaik untuk meningkatkan performa model pada data validasi\n",
        "\n",
        "2. Jelaskan metode BayesSearchCV!\n",
        "\n",
        "   Implementasi Bayesian Optimization untuk pencarian hyperparamete (pada paket scikit-optimize). Lebih sample-efficient dibanding grid/random search\n",
        "\n",
        "3. Bagaimana cara kerja BayesSearchCV?\n",
        "  \n",
        "   Menggunakan surrogate model (mis. Gaussian Process) + acquisition function untuk memilih pengamatan selanjutnya\n",
        "\n",
        "4. Apa kelebihan BayesSearchCV dibandingkan metode hyperparameter tuning lainnya?\n",
        "  \n",
        "   Efisien, cepat menemukan konfigurasi baik pada jumlah evaluasi terbatas, cocok saat evaluasi mahal\n",
        "    \n",
        "\n"
      ],
      "metadata": {
        "id": "pjbXCL2nNB9N"
      }
    },
    {
      "cell_type": "code",
      "source": [
        "# Load dataset\n",
        "from sklearn.datasets import load_iris\n",
        "from sklearn.model_selection import train_test_split\n",
        "\n",
        "# Memuat dataset Iris\n",
        "X, y = load_iris(return_X_y=True)\n",
        "\n",
        "# Membagi dataset menjadi train dan test (75% : 25%)\n",
        "X_train, X_test, y_train, y_test = train_test_split(\n",
        "    X, y, train_size=0.75, random_state=0, stratify=y\n",
        ")\n",
        "\n",
        "print(\"Train shape:\", X_train.shape)\n",
        "print(\"Test shape :\", X_test.shape)"
      ],
      "metadata": {
        "id": "v7ENirBIHIYz",
        "colab": {
          "base_uri": "https://localhost:8080/"
        },
        "outputId": "6cae0d53-9764-4111-b788-e11ac1d60ed3"
      },
      "execution_count": 14,
      "outputs": [
        {
          "output_type": "stream",
          "name": "stdout",
          "text": [
            "Train shape: (112, 4)\n",
            "Test shape : (38, 4)\n"
          ]
        }
      ]
    },
    {
      "cell_type": "code",
      "source": [
        "# Definisikan Model dan parameter yang akan dioptimasi (Ruang Hyperparameter)\n",
        "from sklearn.ensemble import RandomForestClassifier\n",
        "from skopt.space import Integer, Real, Categorical\n",
        "\n",
        "# Inisialisasi model dasar\n",
        "model = RandomForestClassifier(random_state=42)\n",
        "\n",
        "# Definisikan ruang pencarian hyperparameter\n",
        "search_spaces = {\n",
        "    'n_estimators': Integer(50, 300),         # jumlah pohon (trees)\n",
        "    'max_depth': Integer(2, 30),              # kedalaman maksimum setiap pohon\n",
        "    'min_samples_split': Integer(2, 10),      # minimum sampel untuk membagi node\n",
        "    'min_samples_leaf': Integer(1, 10),       # minimum sampel per daun\n",
        "    'max_features': Categorical(['sqrt', 'log2', None])  # jumlah fitur untuk dicoba per split\n",
        "}\n",
        "\n",
        "print(\"Model dan ruang hyperparameter siap untuk dioptimasi!\")"
      ],
      "metadata": {
        "id": "vmyqOLU1IO3T",
        "colab": {
          "base_uri": "https://localhost:8080/"
        },
        "outputId": "adf0d7ae-acc6-46b2-ed63-bad9af8f6dc8"
      },
      "execution_count": 15,
      "outputs": [
        {
          "output_type": "stream",
          "name": "stdout",
          "text": [
            "Model dan ruang hyperparameter siap untuk dioptimasi!\n"
          ]
        }
      ]
    },
    {
      "cell_type": "code",
      "metadata": {
        "colab": {
          "base_uri": "https://localhost:8080/"
        },
        "id": "776600b7",
        "outputId": "dd8ce7b1-2641-4504-faa2-6c021336c5b2"
      },
      "source": [
        "!pip install scikit-optimize"
      ],
      "execution_count": 16,
      "outputs": [
        {
          "output_type": "stream",
          "name": "stdout",
          "text": [
            "Requirement already satisfied: scikit-optimize in /usr/local/lib/python3.12/dist-packages (0.10.2)\n",
            "Requirement already satisfied: joblib>=0.11 in /usr/local/lib/python3.12/dist-packages (from scikit-optimize) (1.5.2)\n",
            "Requirement already satisfied: pyaml>=16.9 in /usr/local/lib/python3.12/dist-packages (from scikit-optimize) (25.7.0)\n",
            "Requirement already satisfied: numpy>=1.20.3 in /usr/local/lib/python3.12/dist-packages (from scikit-optimize) (2.0.2)\n",
            "Requirement already satisfied: scipy>=1.1.0 in /usr/local/lib/python3.12/dist-packages (from scikit-optimize) (1.16.2)\n",
            "Requirement already satisfied: scikit-learn>=1.0.0 in /usr/local/lib/python3.12/dist-packages (from scikit-optimize) (1.6.1)\n",
            "Requirement already satisfied: packaging>=21.3 in /usr/local/lib/python3.12/dist-packages (from scikit-optimize) (25.0)\n",
            "Requirement already satisfied: PyYAML in /usr/local/lib/python3.12/dist-packages (from pyaml>=16.9->scikit-optimize) (6.0.3)\n",
            "Requirement already satisfied: threadpoolctl>=3.1.0 in /usr/local/lib/python3.12/dist-packages (from scikit-learn>=1.0.0->scikit-optimize) (3.6.0)\n"
          ]
        }
      ]
    },
    {
      "cell_type": "markdown",
      "source": [
        "# Fungsi Optimisasi Menggunakan BayesianSearchCV"
      ],
      "metadata": {
        "id": "Ip5U8cL4OLUP"
      }
    },
    {
      "cell_type": "code",
      "source": [
        "# Inisialisasi BayesSearchCV\n",
        "from skopt import BayesSearchCV\n",
        "\n",
        "# Membuat objek BayesSearchCV\n",
        "bayes = BayesSearchCV(\n",
        "    estimator=model,              # model yang akan dioptimasi\n",
        "    search_spaces=search_spaces,  # ruang hyperparameter\n",
        "    n_iter=25,                    # jumlah iterasi pencarian\n",
        "    scoring='accuracy',           # metrik evaluasi\n",
        "    cv=3,                         # jumlah fold cross-validation\n",
        "    n_jobs=-1,                    # gunakan semua core CPU\n",
        "    random_state=42,              # untuk hasil konsisten\n",
        "    verbose=1                     # tampilkan progres\n",
        ")\n",
        "\n",
        "print(\"✅ BayesSearchCV berhasil diinisialisasi!\")"
      ],
      "metadata": {
        "id": "BC0k0vXKOBJk",
        "colab": {
          "base_uri": "https://localhost:8080/"
        },
        "outputId": "26bc5656-ff52-4558-bbf9-534a8cfeeb46"
      },
      "execution_count": 17,
      "outputs": [
        {
          "output_type": "stream",
          "name": "stdout",
          "text": [
            "✅ BayesSearchCV berhasil diinisialisasi!\n"
          ]
        }
      ]
    },
    {
      "cell_type": "code",
      "source": [
        "# Jalankan optimisasi\n",
        "# Melatih (fit) model dengan BayesSearchCV\n",
        "bayes.fit(X_train, y_train)\n",
        "\n",
        "# Menyimpan model terbaik\n",
        "best_model = bayes.best_estimator_\n",
        "\n",
        "# Menampilkan hasil tuning\n",
        "print(\"\\n✅ Proses optimisasi selesai!\")\n",
        "print(\"Best Parameters :\", bayes.best_params_)\n",
        "print(\"Best CV Score   :\", bayes.best_score_)"
      ],
      "metadata": {
        "id": "EYoUwsYCOB5F",
        "colab": {
          "base_uri": "https://localhost:8080/"
        },
        "outputId": "7b365dca-a13b-4b0a-82f5-41e552c3ccec"
      },
      "execution_count": 18,
      "outputs": [
        {
          "output_type": "stream",
          "name": "stdout",
          "text": [
            "Fitting 3 folds for each of 1 candidates, totalling 3 fits\n",
            "Fitting 3 folds for each of 1 candidates, totalling 3 fits\n",
            "Fitting 3 folds for each of 1 candidates, totalling 3 fits\n",
            "Fitting 3 folds for each of 1 candidates, totalling 3 fits\n",
            "Fitting 3 folds for each of 1 candidates, totalling 3 fits\n",
            "Fitting 3 folds for each of 1 candidates, totalling 3 fits\n",
            "Fitting 3 folds for each of 1 candidates, totalling 3 fits\n",
            "Fitting 3 folds for each of 1 candidates, totalling 3 fits\n",
            "Fitting 3 folds for each of 1 candidates, totalling 3 fits\n",
            "Fitting 3 folds for each of 1 candidates, totalling 3 fits\n",
            "Fitting 3 folds for each of 1 candidates, totalling 3 fits\n",
            "Fitting 3 folds for each of 1 candidates, totalling 3 fits\n",
            "Fitting 3 folds for each of 1 candidates, totalling 3 fits\n",
            "Fitting 3 folds for each of 1 candidates, totalling 3 fits\n",
            "Fitting 3 folds for each of 1 candidates, totalling 3 fits\n",
            "Fitting 3 folds for each of 1 candidates, totalling 3 fits\n",
            "Fitting 3 folds for each of 1 candidates, totalling 3 fits\n",
            "Fitting 3 folds for each of 1 candidates, totalling 3 fits\n",
            "Fitting 3 folds for each of 1 candidates, totalling 3 fits\n",
            "Fitting 3 folds for each of 1 candidates, totalling 3 fits\n",
            "Fitting 3 folds for each of 1 candidates, totalling 3 fits\n",
            "Fitting 3 folds for each of 1 candidates, totalling 3 fits\n",
            "Fitting 3 folds for each of 1 candidates, totalling 3 fits\n",
            "Fitting 3 folds for each of 1 candidates, totalling 3 fits\n",
            "Fitting 3 folds for each of 1 candidates, totalling 3 fits\n",
            "\n",
            "✅ Proses optimisasi selesai!\n",
            "Best Parameters : OrderedDict({'max_depth': 4, 'max_features': 'log2', 'min_samples_leaf': 2, 'min_samples_split': 9, 'n_estimators': 91})\n",
            "Best CV Score   : 0.9556661925082978\n"
          ]
        }
      ]
    },
    {
      "cell_type": "code",
      "source": [
        "# Evaluasi Model\n",
        "# Prediksi data test menggunakan model terbaik\n",
        "y_pred = best_model.predict(X_test)\n",
        "\n",
        "# Import necessary metrics\n",
        "from sklearn.metrics import accuracy_score, classification_report, confusion_matrix\n",
        "\n",
        "# Tampilkan hasil evaluasi\n",
        "print(\"\\n=== HASIL EVALUASI MODEL ===\")\n",
        "print(\"Akurasi Test :\", accuracy_score(y_test, y_pred))\n",
        "print(\"\\nClassification Report:\\n\", classification_report(y_test, y_pred))\n",
        "print(\"Confusion Matrix:\\n\", confusion_matrix(y_test, y_pred))"
      ],
      "metadata": {
        "id": "sox5OZx6OD0z",
        "colab": {
          "base_uri": "https://localhost:8080/"
        },
        "outputId": "d13aeb0e-2d4f-443d-fa21-019fe3365193"
      },
      "execution_count": 20,
      "outputs": [
        {
          "output_type": "stream",
          "name": "stdout",
          "text": [
            "\n",
            "=== HASIL EVALUASI MODEL ===\n",
            "Akurasi Test : 1.0\n",
            "\n",
            "Classification Report:\n",
            "               precision    recall  f1-score   support\n",
            "\n",
            "           0       1.00      1.00      1.00        13\n",
            "           1       1.00      1.00      1.00        13\n",
            "           2       1.00      1.00      1.00        12\n",
            "\n",
            "    accuracy                           1.00        38\n",
            "   macro avg       1.00      1.00      1.00        38\n",
            "weighted avg       1.00      1.00      1.00        38\n",
            "\n",
            "Confusion Matrix:\n",
            " [[13  0  0]\n",
            " [ 0 13  0]\n",
            " [ 0  0 12]]\n"
          ]
        }
      ]
    }
  ]
}