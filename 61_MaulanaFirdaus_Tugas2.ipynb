{
  "nbformat": 4,
  "nbformat_minor": 0,
  "metadata": {
    "colab": {
      "provenance": []
    },
    "kernelspec": {
      "name": "python3",
      "display_name": "Python 3"
    },
    "language_info": {
      "name": "python"
    }
  },
  "cells": [
    {
      "cell_type": "markdown",
      "source": [
        "# Overview Materi\n",
        "\n",
        "Source: https://www.youtube.com/watch?v=LDRbO9a6XPU"
      ],
      "metadata": {
        "id": "fQjXfMWTFXhh"
      }
    },
    {
      "cell_type": "markdown",
      "source": [
        "Jelaskan secara singkat apa itu decision tree menurut pemahamanmu!"
      ],
      "metadata": {
        "id": "UH5otNgmFY4r"
      }
    },
    {
      "cell_type": "markdown",
      "source": [
        "# Import Data & Libraries"
      ],
      "metadata": {
        "id": "yR_dxhoaIGZY"
      }
    },
    {
      "cell_type": "code",
      "execution_count": 36,
      "metadata": {
        "id": "E3fobMaeFOAe"
      },
      "outputs": [],
      "source": [
        "from __future__ import print_function\n",
        "\n",
        "# label kolom\n",
        "header = [\"color\", \"diameter\", \"label\"]\n",
        "\n",
        "# data training\n",
        "training_data = [\n",
        "    ['Green', 3, 'Apple'],\n",
        "    ['Yellow', 3, 'Apple'],\n",
        "    ['Red', 1, 'Grape'],\n",
        "    ['Red', 1, 'Grape'],\n",
        "    ['Yellow', 3, 'Lemon'],]\n",
        "\n",
        "# data testing\n",
        "testing_data = [\n",
        "    ['Green', 3, 'Apple'],\n",
        "    ['Yellow', 4, 'Apple'],\n",
        "    ['Red', 2, 'Grape'],\n",
        "    ['Red', 1, 'Grape'],\n",
        "    ['Yellow', 3, 'Lemon'],]"
      ]
    },
    {
      "cell_type": "markdown",
      "source": [
        "# Fungsi Dasar"
      ],
      "metadata": {
        "id": "YMsTb3E1MWY6"
      }
    },
    {
      "cell_type": "code",
      "source": [
        "# fungsi mencari apa saja unique value dari suatu kolom\n",
        "def unique_vals(rows, col):\n",
        "    \"\"\"Mengembalikan himpunan nilai unik pada kolom tertentu dari dataset\"\"\"\n",
        "    return set([row[col] for row in rows])\n",
        "\n",
        "# contoh penggunaan\n",
        "training_data = [\n",
        "    ['merah', 'halus', 150, 'apel'],\n",
        "    ['hijau', 'halus', 170, 'apel'],\n",
        "    ['oren', 'kasar', 140, 'jeruk'],\n",
        "    ['oren', 'kasar', 130, 'jeruk'],\n",
        "]\n",
        "\n",
        "print(\"Nilai unik kolom 0 (warna):\", unique_vals(training_data, 0))\n",
        "print(\"Nilai unik kolom 1 (tekstur):\", unique_vals(training_data, 1))\n",
        "print(\"Nilai unik kolom 3 (label):\", unique_vals(training_data, 3))"
      ],
      "metadata": {
        "id": "Bgzx5gwhSTWp",
        "colab": {
          "base_uri": "https://localhost:8080/"
        },
        "outputId": "deb57c61-9021-4913-b10b-4f34f67da9d0"
      },
      "execution_count": 37,
      "outputs": [
        {
          "output_type": "stream",
          "name": "stdout",
          "text": [
            "Nilai unik kolom 0 (warna): {'merah', 'oren', 'hijau'}\n",
            "Nilai unik kolom 1 (tekstur): {'halus', 'kasar'}\n",
            "Nilai unik kolom 3 (label): {'jeruk', 'apel'}\n"
          ]
        }
      ]
    },
    {
      "cell_type": "code",
      "source": [
        "# fungsi Menghitung jumlah unique value dari suatu kolom\n",
        "def class_counts(rows):\n",
        "    \"\"\"Menghitung jumlah kemunculan setiap label di dataset (kolom terakhir).\"\"\"\n",
        "    counts = {}\n",
        "    for row in rows:\n",
        "        # label diasumsikan ada di kolom terakhir\n",
        "        label = row[-1]\n",
        "        if label not in counts:\n",
        "            counts[label] = 0\n",
        "        counts[label] += 1\n",
        "    return counts\n",
        "# contoh penggunaan\n",
        "training_data = [\n",
        "    ['merah', 'halus', 150, 'apel'],\n",
        "    ['hijau', 'halus', 170, 'apel'],\n",
        "    ['oren', 'kasar', 140, 'jeruk'],\n",
        "    ['oren', 'kasar', 130, 'jeruk'],\n",
        "    ['hijau', 'halus', 160, 'apel'],\n",
        "]\n",
        "\n",
        "print(\"Jumlah tiap kelas:\", class_counts(training_data))"
      ],
      "metadata": {
        "id": "hhF6uUhrJesN",
        "colab": {
          "base_uri": "https://localhost:8080/"
        },
        "outputId": "155392a7-3252-4b69-9723-706b2af993a1"
      },
      "execution_count": 38,
      "outputs": [
        {
          "output_type": "stream",
          "name": "stdout",
          "text": [
            "Jumlah tiap kelas: {'apel': 3, 'jeruk': 2}\n"
          ]
        }
      ]
    },
    {
      "cell_type": "code",
      "source": [
        "# fungsi pengecekan suatu value numerik atau bukan\n",
        "def is_numeric(value):\n",
        "    \"\"\"Mengembalikan True jika value bertipe int atau float, False jika tidak.\"\"\"\n",
        "    return isinstance(value, int) or isinstance(value, float)\n",
        "\n",
        "# contoh penggunaan\n",
        "print(is_numeric(7))        # True (integer)\n",
        "print(is_numeric(3.14))     # True (float)\n",
        "print(is_numeric(\"apel\"))   # False (string)\n",
        "print(is_numeric([1, 2]))   # False (list)"
      ],
      "metadata": {
        "id": "U9mxqVcnI9vw",
        "colab": {
          "base_uri": "https://localhost:8080/"
        },
        "outputId": "a48a6fc1-d25b-4e33-c7a8-619bc96bbb81"
      },
      "execution_count": 39,
      "outputs": [
        {
          "output_type": "stream",
          "name": "stdout",
          "text": [
            "True\n",
            "True\n",
            "False\n",
            "False\n"
          ]
        }
      ]
    },
    {
      "cell_type": "code",
      "source": [
        "# kelas untuk merepresentasikan pertanyaan pada decision tree\n",
        "class Question:\n",
        "\n",
        "    # inisialisasi kolom dan nilai pertanyaan\n",
        "    def __init__(self, column, value):\n",
        "        self.column = column\n",
        "        self.value = value\n",
        "\n",
        "    # mengecek apakah contoh data sesuai dengan pertanyaan\n",
        "    def match(self, example):\n",
        "        val = example[self.column]\n",
        "        if is_numeric(val):\n",
        "            return val >= self.value\n",
        "        else:\n",
        "            return val == self.value\n",
        "\n",
        "    # menampilkan pertanyaan dalam format string yang mudah dibaca\n",
        "    def __repr__(self):\n",
        "        condition = \">=\" if is_numeric(self.value) else \"==\"\n",
        "        return f\"Apakah kolom[{self.column}] {condition} {self.value}?\"\n",
        "\n",
        "\n",
        "# contoh penggunaan 1\n",
        "training_data = [\n",
        "    ['merah', 'halus', 150, 'apel'],\n",
        "    ['hijau', 'halus', 170, 'apel'],\n",
        "    ['oren', 'kasar', 140, 'jeruk'],\n",
        "]\n",
        "\n",
        "# Buat pertanyaan: apakah berat (kolom 2) >= 150?\n",
        "q1 = Question(2, 150)\n",
        "print(q1)  # tampilkan pertanyaan\n",
        "print(\"Contoh 1 cocok?\", q1.match(training_data[0]))  # True\n",
        "print(\"Contoh 3 cocok?\", q1.match(training_data[2]))  # False\n",
        "\n",
        "# Buat pertanyaan: apakah warna (kolom 0) == 'hijau'?\n",
        "q2 = Question(0, \"hijau\")\n",
        "print(q2)\n",
        "print(\"Contoh 2 cocok?\", q2.match(training_data[1]))  # True\n",
        "print(\"Contoh 3 cocok?\", q2.match(training_data[2]))  # False"
      ],
      "metadata": {
        "id": "MekftmdeLPRo",
        "colab": {
          "base_uri": "https://localhost:8080/"
        },
        "outputId": "11f56d3d-9956-4f49-c428-9fd1371bac5c"
      },
      "execution_count": 40,
      "outputs": [
        {
          "output_type": "stream",
          "name": "stdout",
          "text": [
            "Apakah kolom[2] >= 150?\n",
            "Contoh 1 cocok? True\n",
            "Contoh 3 cocok? False\n",
            "Apakah kolom[0] == hijau?\n",
            "Contoh 2 cocok? True\n",
            "Contoh 3 cocok? False\n"
          ]
        }
      ]
    },
    {
      "cell_type": "code",
      "source": [
        "# membagi dataset menjadi dua berdasarkan pertanyaan\n",
        "def partition(rows, question):\n",
        "    \"\"\"Membagi dataset menjadi dua berdasarkan apakah baris cocok dengan pertanyaan atau tidak.\"\"\"\n",
        "    true_rows, false_rows = [], []\n",
        "    for row in rows:\n",
        "        if question.match(row):\n",
        "            true_rows.append(row)\n",
        "        else:\n",
        "            false_rows.append(row)\n",
        "    return true_rows, false_rows\n",
        "\n",
        "\n",
        "# contoh penggunaan\n",
        "training_data = [\n",
        "    ['merah', 'halus', 150, 'apel'],\n",
        "    ['hijau', 'halus', 170, 'apel'],\n",
        "    ['oren', 'kasar', 140, 'jeruk'],\n",
        "    ['hijau', 'kasar', 120, 'anggur'],\n",
        "]\n",
        "\n",
        "# Pertanyaan: apakah berat (kolom 2) >= 150?\n",
        "q = Question(2, 150)\n",
        "\n",
        "true_rows, false_rows = partition(training_data, q)\n",
        "\n",
        "print(\"Pertanyaan:\", q)\n",
        "print(\"\\nTrue rows (cocok):\")\n",
        "for row in true_rows:\n",
        "    print(row)\n",
        "print(\"\\nFalse rows (tidak cocok):\")\n",
        "for row in false_rows:\n",
        "    print(row)"
      ],
      "metadata": {
        "id": "Y3lTf9NbL8Ik",
        "colab": {
          "base_uri": "https://localhost:8080/"
        },
        "outputId": "1787f552-29ea-42db-878e-38ef0e445fd4"
      },
      "execution_count": 41,
      "outputs": [
        {
          "output_type": "stream",
          "name": "stdout",
          "text": [
            "Pertanyaan: Apakah kolom[2] >= 150?\n",
            "\n",
            "True rows (cocok):\n",
            "['merah', 'halus', 150, 'apel']\n",
            "['hijau', 'halus', 170, 'apel']\n",
            "\n",
            "False rows (tidak cocok):\n",
            "['oren', 'kasar', 140, 'jeruk']\n",
            "['hijau', 'kasar', 120, 'anggur']\n"
          ]
        }
      ]
    },
    {
      "cell_type": "markdown",
      "source": [
        "**apa itu gini impurity?**\n",
        "<br> gini impurity berfungsi mengukur tingkat ketidakmurnian atau ketidakteraturan pada sebuah simpul (node) dalam pohon"
      ],
      "metadata": {
        "id": "X4D5BkyeMdSG"
      }
    },
    {
      "cell_type": "code",
      "source": [
        "# menghitung nilai Gini Impurity untuk sebuah dataset\n",
        "def gini(rows):\n",
        "    \"\"\"Menghitung Gini Impurity dari sebuah dataset\"\"\"\n",
        "    counts = class_counts(rows)\n",
        "    impurity = 1\n",
        "    total = float(len(rows))\n",
        "    for lbl in counts:\n",
        "        prob_of_lbl = counts[lbl] / total\n",
        "        impurity -= prob_of_lbl ** 2\n",
        "    return impurity\n",
        "\n",
        "\n",
        "# contoh penggunaan\n",
        "training_data = [\n",
        "    ['merah', 'halus', 150, 'apel'],\n",
        "    ['hijau', 'halus', 170, 'apel'],\n",
        "    ['oren', 'kasar', 140, 'jeruk'],\n",
        "    ['hijau', 'kasar', 120, 'anggur'],\n",
        "]\n",
        "\n",
        "print(\"Jumlah kelas:\", class_counts(training_data))\n",
        "print(\"Gini impurity dataset:\", gini(training_data))\n",
        "\n",
        "# Kalau semua label sama, Gini = 0\n",
        "pure_data = [\n",
        "    ['merah', 'halus', 150, 'apel'],\n",
        "    ['hijau', 'halus', 170, 'apel'],\n",
        "    ['oren', 'kasar', 140, 'apel'],\n",
        "]\n",
        "print(\"Jumlah kelas (pure):\", class_counts(pure_data))\n",
        "print(\"Gini impurity pure dataset:\", gini(pure_data))"
      ],
      "metadata": {
        "id": "DmAnmSzFMKtA",
        "colab": {
          "base_uri": "https://localhost:8080/"
        },
        "outputId": "ccd0601f-8cb5-46bd-b77f-c8223f790f14"
      },
      "execution_count": 42,
      "outputs": [
        {
          "output_type": "stream",
          "name": "stdout",
          "text": [
            "Jumlah kelas: {'apel': 2, 'jeruk': 1, 'anggur': 1}\n",
            "Gini impurity dataset: 0.625\n",
            "Jumlah kelas (pure): {'apel': 3}\n",
            "Gini impurity pure dataset: 0.0\n"
          ]
        }
      ]
    },
    {
      "cell_type": "markdown",
      "source": [
        "**apa itu information gain?**\n",
        "<br> information gain berfungsi mengukur seberapa efektif sebuah fitur dalam memisahkan data berdasarkan kelas-kelasnya"
      ],
      "metadata": {
        "id": "SyxWlLNOM_2U"
      }
    },
    {
      "cell_type": "code",
      "source": [
        "# menghitung nilai Information Gain dari pemisahan dataset\n",
        "def info_gain(left, right, current_uncertainty):\n",
        "    \"\"\"Menghitung information gain dari hasil split dataset.\"\"\"\n",
        "    p = float(len(left)) / (len(left) + len(right))\n",
        "    return current_uncertainty - p * gini(left) - (1 - p) * gini(right)\n",
        "\n",
        "\n",
        "# contoh penggunaan\n",
        "training_data = [\n",
        "    ['merah', 'halus', 150, 'apel'],\n",
        "    ['hijau', 'halus', 170, 'apel'],\n",
        "    ['oren', 'kasar', 140, 'jeruk'],\n",
        "    ['hijau', 'kasar', 120, 'anggur'],\n",
        "]\n",
        "\n",
        "# hitung Gini awal (sebelum split)\n",
        "current_uncertainty = gini(training_data)\n",
        "\n",
        "# Pertanyaan: apakah berat (kolom 2) >= 150?\n",
        "q = Question(2, 150)\n",
        "true_rows, false_rows = partition(training_data, q)\n",
        "\n",
        "gain = info_gain(true_rows, false_rows, current_uncertainty)\n",
        "\n",
        "print(\"Pertanyaan:\", q)\n",
        "print(\"Gini awal:\", current_uncertainty)\n",
        "print(\"Jumlah data True:\", len(true_rows), \"-> Gini:\", gini(true_rows))\n",
        "print(\"Jumlah data False:\", len(false_rows), \"-> Gini:\", gini(false_rows))\n",
        "print(\"Information Gain:\", gain)\n"
      ],
      "metadata": {
        "id": "rObVucEEMiIZ",
        "colab": {
          "base_uri": "https://localhost:8080/"
        },
        "outputId": "c87e4131-b899-44d7-cfcb-b7c407b9d55c"
      },
      "execution_count": 43,
      "outputs": [
        {
          "output_type": "stream",
          "name": "stdout",
          "text": [
            "Pertanyaan: Apakah kolom[2] >= 150?\n",
            "Gini awal: 0.625\n",
            "Jumlah data True: 2 -> Gini: 0.0\n",
            "Jumlah data False: 2 -> Gini: 0.5\n",
            "Information Gain: 0.375\n"
          ]
        }
      ]
    },
    {
      "cell_type": "code",
      "source": [
        "# mencari pertanyaan terbaik untuk membagi dataset berdasarkan information gain tertinggi\n",
        "def find_best_split(rows):\n",
        "    \"\"\"Mengembalikan information gain terbaik dan pertanyaan yang menghasilkan split tersebut.\"\"\"\n",
        "    best_gain = 0  # default\n",
        "    best_question = None\n",
        "    current_uncertainty = gini(rows)\n",
        "    n_features = len(rows[0]) - 1  # jumlah kolom fitur (tanpa label)\n",
        "\n",
        "    for col in range(n_features):\n",
        "        values = set([row[col] for row in rows])  # nilai unik di kolom ini\n",
        "\n",
        "        for val in values:\n",
        "            question = Question(col, val)\n",
        "\n",
        "            # splitting the dataset\n",
        "            true_rows, false_rows = partition(rows, question)\n",
        "\n",
        "            # Skip this split if it doesn't divide the dataset\n",
        "            if len(true_rows) == 0 or len(false_rows) == 0:\n",
        "                continue\n",
        "\n",
        "            # hitung information gain\n",
        "            gain = info_gain(true_rows, false_rows, current_uncertainty)\n",
        "\n",
        "            # update jika gain lebih baik\n",
        "            if gain >= best_gain:\n",
        "                best_gain, best_question = gain, question\n",
        "\n",
        "    return best_gain, best_question\n",
        "\n",
        "\n",
        "# contoh penggunaan\n",
        "training_data = [\n",
        "    ['merah', 'halus', 150, 'apel'],\n",
        "    ['hijau', 'halus', 170, 'apel'],\n",
        "    ['oren', 'kasar', 140, 'jeruk'],\n",
        "    ['hijau', 'kasar', 120, 'anggur'],\n",
        "]\n",
        "\n",
        "best_gain, best_question = find_best_split(training_data)\n",
        "print(\"Pertanyaan terbaik:\", best_question)\n",
        "print(\"Information Gain terbaik:\", best_gain)\n"
      ],
      "metadata": {
        "id": "OK8Lc7koOIyS",
        "colab": {
          "base_uri": "https://localhost:8080/"
        },
        "outputId": "ef10044a-e5c4-47c8-f975-1e1144dab79f"
      },
      "execution_count": 44,
      "outputs": [
        {
          "output_type": "stream",
          "name": "stdout",
          "text": [
            "Pertanyaan terbaik: Apakah kolom[2] >= 150?\n",
            "Information Gain terbaik: 0.375\n"
          ]
        }
      ]
    },
    {
      "cell_type": "markdown",
      "source": [
        "# Fungsi Decision Tree"
      ],
      "metadata": {
        "id": "t225xaaIPGow"
      }
    },
    {
      "cell_type": "code",
      "source": [
        "# merepresentasikan node daun (leaf) pada decision tree yang berisi hasil prediksi\n",
        "class Leaf:\n",
        "\n",
        "    # inisialisasi leaf dengan menghitung jumlah kemunculan tiap kelas\n",
        "    def __init__(self, rows):\n",
        "        self.predictions = class_counts(rows)\n",
        "\n",
        "# contoh penggunaan\n",
        "training_data = [\n",
        "    ['merah', 'halus', 150, 'apel'],\n",
        "    ['hijau', 'halus', 170, 'apel'],\n",
        "    ['oren', 'kasar', 140, 'jeruk'],\n",
        "    ['hijau', 'kasar', 120, 'anggur'],\n",
        "]\n",
        "\n",
        "leaf_node = Leaf(training_data)\n",
        "print(\"Prediksi di Leaf:\", leaf_node.predictions)\n"
      ],
      "metadata": {
        "id": "3KXNVwMPOZ5c",
        "colab": {
          "base_uri": "https://localhost:8080/"
        },
        "outputId": "c2e6bd48-ab33-4433-975c-95b86906b94a"
      },
      "execution_count": 45,
      "outputs": [
        {
          "output_type": "stream",
          "name": "stdout",
          "text": [
            "Prediksi di Leaf: {'apel': 2, 'jeruk': 1, 'anggur': 1}\n"
          ]
        }
      ]
    },
    {
      "cell_type": "code",
      "source": [
        "# merepresentasikan node keputusan (decision node) yang berisi pertanyaan dan cabang\n",
        "class Decision_Node:\n",
        "\n",
        "    # inisialisasi node dengan pertanyaan, cabang benar, dan cabang salah\n",
        "    def __init__(self, question, true_branch, false_branch):\n",
        "        self.question = question          # pertanyaan yang digunakan untuk split\n",
        "        self.true_branch = true_branch    # subtree jika jawaban True\n",
        "        self.false_branch = false_branch  # subtree jika jawaban False\n",
        "\n",
        "# contoh penggunaan\n",
        "q = Question(0, \"hijau\")\n",
        "true_rows, false_rows = partition(training_data, q)\n",
        "\n",
        "true_leaf = Leaf(true_rows)\n",
        "false_leaf = Leaf(false_rows)\n",
        "decision_node = Decision_Node(q, true_leaf, false_leaf)\n",
        "\n",
        "print(\"Pertanyaan di node:\", decision_node.question)\n",
        "print(\"Cabang True:\", decision_node.true_branch.predictions)\n",
        "print(\"Cabang False:\", decision_node.false_branch.predictions)\n"
      ],
      "metadata": {
        "id": "gktUwUY-P-eN",
        "colab": {
          "base_uri": "https://localhost:8080/"
        },
        "outputId": "0301db1f-0e37-43c4-9a79-5eb4dda72696"
      },
      "execution_count": 46,
      "outputs": [
        {
          "output_type": "stream",
          "name": "stdout",
          "text": [
            "Pertanyaan di node: Apakah kolom[0] == hijau?\n",
            "Cabang True: {'apel': 1, 'anggur': 1}\n",
            "Cabang False: {'apel': 1, 'jeruk': 1}\n"
          ]
        }
      ]
    },
    {
      "cell_type": "code",
      "source": [
        "# membangun decision tree secara rekursif\n",
        "def build_tree(rows):\n",
        "    # cari split terbaik\n",
        "    gain, question = find_best_split(rows)\n",
        "\n",
        "    # jika tidak ada gain, maka berhenti -> buat Leaf\n",
        "    if gain == 0:\n",
        "        return Leaf(rows)\n",
        "\n",
        "    # bagi dataset berdasarkan pertanyaan terbaik\n",
        "    true_rows, false_rows = partition(rows, question)\n",
        "\n",
        "    # rekursif ke cabang true\n",
        "    true_branch = build_tree(true_rows)\n",
        "\n",
        "    # rekursif ke cabang false\n",
        "    false_branch = build_tree(false_rows)\n",
        "\n",
        "    # kembalikan decision node\n",
        "    return Decision_Node(question, true_branch, false_branch)\n",
        "\n",
        "# contoh penggunaan\n",
        "tree = build_tree(training_data)\n",
        "print(\"Tree berhasil dibangun!\")\n"
      ],
      "metadata": {
        "id": "_cWHvsMKPPsk",
        "colab": {
          "base_uri": "https://localhost:8080/"
        },
        "outputId": "3614e561-b2de-43d8-81dd-31ceea38426e"
      },
      "execution_count": 47,
      "outputs": [
        {
          "output_type": "stream",
          "name": "stdout",
          "text": [
            "Tree berhasil dibangun!\n"
          ]
        }
      ]
    },
    {
      "cell_type": "code",
      "source": [
        "# mencetak struktur decision tree secara rekursif dalam format teks\n",
        "def print_tree(node, spacing=\"\"):\n",
        "\n",
        "    # base case: jika sudah mencapai leaf\n",
        "    if isinstance(node, Leaf):\n",
        "        print(spacing + \"Prediksi:\", node.predictions)\n",
        "        return\n",
        "\n",
        "    # mencetak pertanyaan pada node saat ini\n",
        "    print(spacing + str(node.question))\n",
        "\n",
        "    # mencetak cabang true secara rekursif\n",
        "    print(spacing + '--> True:')\n",
        "    print_tree(node.true_branch, spacing + \"  \")\n",
        "\n",
        "    # mencetak cabang false secara rekursif\n",
        "    print(spacing + '--> False:')\n",
        "    print_tree(node.false_branch, spacing + \"  \")\n",
        "\n",
        "# contoh penggunaan\n",
        "print_tree(tree)\n"
      ],
      "metadata": {
        "id": "tx_AbjiYPS05",
        "colab": {
          "base_uri": "https://localhost:8080/"
        },
        "outputId": "a46eef9e-b4c8-4ff3-c17b-5d3fa1027bb5"
      },
      "execution_count": 48,
      "outputs": [
        {
          "output_type": "stream",
          "name": "stdout",
          "text": [
            "Apakah kolom[2] >= 150?\n",
            "--> True:\n",
            "  Prediksi: {'apel': 2}\n",
            "--> False:\n",
            "  Apakah kolom[2] >= 140?\n",
            "  --> True:\n",
            "    Prediksi: {'jeruk': 1}\n",
            "  --> False:\n",
            "    Prediksi: {'anggur': 1}\n"
          ]
        }
      ]
    },
    {
      "cell_type": "code",
      "source": [
        "# mengklasifikasikan satu baris data menggunakan decision tree\n",
        "def classify(row, node):\n",
        "\n",
        "    # base case: jika sudah mencapai leaf\n",
        "    if isinstance(node, Leaf):\n",
        "        return node.predictions\n",
        "\n",
        "    # menentukan apakah mengikuti cabang true atau cabang false\n",
        "    if node.question.match(row):\n",
        "        return classify(row, node.true_branch)\n",
        "    else:\n",
        "        return classify(row, node.false_branch)\n",
        "\n",
        "# contoh penggunaan\n",
        "print(\"Hasil klasifikasi untuk ['hijau','halus',170,'?'] :\", classify(['hijau','halus',170,None], tree))\n",
        "print(\"Hasil klasifikasi untuk ['oren','kasar',140,'?'] :\", classify(['oren','kasar',140,None], tree))\n"
      ],
      "metadata": {
        "id": "tchvhQc-PVC2",
        "colab": {
          "base_uri": "https://localhost:8080/"
        },
        "outputId": "91ac3642-6bce-43ef-f8cd-7d8e5639ecc0"
      },
      "execution_count": 49,
      "outputs": [
        {
          "output_type": "stream",
          "name": "stdout",
          "text": [
            "Hasil klasifikasi untuk ['hijau','halus',170,'?'] : {'apel': 2}\n",
            "Hasil klasifikasi untuk ['oren','kasar',140,'?'] : {'jeruk': 1}\n"
          ]
        }
      ]
    },
    {
      "cell_type": "code",
      "source": [
        "# menampilkan prediksi pada leaf dalam format persentase\n",
        "def print_leaf(counts):\n",
        "    total = sum(counts.values())\n",
        "    probs = {}\n",
        "    for lbl in counts:\n",
        "        probs[lbl] = str(int(counts[lbl] / total * 100)) + \"%\"\n",
        "    return probs\n",
        "\n",
        "# contoh penggunaan\n",
        "print(\"Prediksi data baru ['hijau','halus',170,'?'] :\", print_leaf(classify(['hijau','halus',170,None], tree)))\n",
        "print(\"Prediksi data baru ['oren','kasar',140,'?'] :\", print_leaf(classify(['oren','kasar',140,None], tree)))\n"
      ],
      "metadata": {
        "id": "w8r0lzWpQM7c",
        "colab": {
          "base_uri": "https://localhost:8080/"
        },
        "outputId": "b6fc3294-9580-4fc1-9d3a-1a6dcd005999"
      },
      "execution_count": 50,
      "outputs": [
        {
          "output_type": "stream",
          "name": "stdout",
          "text": [
            "Prediksi data baru ['hijau','halus',170,'?'] : {'apel': '100%'}\n",
            "Prediksi data baru ['oren','kasar',140,'?'] : {'jeruk': '100%'}\n"
          ]
        }
      ]
    },
    {
      "cell_type": "markdown",
      "source": [
        "# Predict Using Decision Tree"
      ],
      "metadata": {
        "id": "JLT1_TuuQWlI"
      }
    },
    {
      "cell_type": "code",
      "source": [
        "# menguji decision tree dengan data uji dan membandingkan hasil prediksi dengan label asli\n",
        "for row in testing_data:\n",
        "    print(\"Data:\", row)\n",
        "    print(\"Label asli:\", row[-1])\n",
        "    print(\"Prediksi:\", print_leaf(classify(row, tree)))\n",
        "    print()\n"
      ],
      "metadata": {
        "id": "DhG5NCwHQSlF",
        "colab": {
          "base_uri": "https://localhost:8080/"
        },
        "outputId": "7cb69236-fa35-4b30-cc7e-0ad8e4bef074"
      },
      "execution_count": 51,
      "outputs": [
        {
          "output_type": "stream",
          "name": "stdout",
          "text": [
            "Data: ['Green', 3, 'Apple']\n",
            "Label asli: Apple\n",
            "Prediksi: {'anggur': '100%'}\n",
            "\n",
            "Data: ['Yellow', 4, 'Apple']\n",
            "Label asli: Apple\n",
            "Prediksi: {'anggur': '100%'}\n",
            "\n",
            "Data: ['Red', 2, 'Grape']\n",
            "Label asli: Grape\n",
            "Prediksi: {'anggur': '100%'}\n",
            "\n",
            "Data: ['Red', 1, 'Grape']\n",
            "Label asli: Grape\n",
            "Prediksi: {'anggur': '100%'}\n",
            "\n",
            "Data: ['Yellow', 3, 'Lemon']\n",
            "Label asli: Lemon\n",
            "Prediksi: {'anggur': '100%'}\n",
            "\n"
          ]
        }
      ]
    }
  ]
}