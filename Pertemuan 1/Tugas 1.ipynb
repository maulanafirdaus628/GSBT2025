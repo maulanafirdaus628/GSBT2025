{
 "cells": [
  {
   "cell_type": "markdown",
   "id": "43ae8064",
   "metadata": {},
   "source": [
    "# Tugas 1 - GSBT2025\n",
    "\n",
    "**Nama:** \n",
    "\n",
    "**NIM:** \n",
    "\n",
    "**Email:** \n",
    "\n",
    "**Petunjuk singkat:** Isi identitas di atas, jalankan semua sel (Run All), simpan, lalu upload file `Tugas 1.ipynb` ke folder `Pertemuan 1` pada repository `GSBT2025`."
   ]
  },
  {
   "cell_type": "markdown",
   "id": "916bc71e",
   "metadata": {},
   "source": [
    "## Bagian A — Contoh Analisis Sederhana (Regresi Linear)\n",
    "\n",
    "Notebook ini berisi contoh analisis sederhana yang dapat Anda gunakan sebagai template. Hapus atau modifikasi sesuai kebutuhan tugas Anda."
   ]
  },
  {
   "cell_type": "code",
   "execution_count": null,
   "id": "0ec01362",
   "metadata": {},
   "outputs": [],
   "source": [
    "# Import pustaka dasar\n",
    "import numpy as np\n",
    "import pandas as pd\n",
    "from sklearn.linear_model import LinearRegression\n",
    "from sklearn.metrics import r2_score\n",
    "import matplotlib.pyplot as plt\n",
    "\n",
    "# Membuat dataset sintetis\n",
    "np.random.seed(0)\n",
    "X = np.linspace(0, 10, 100).reshape(-1, 1)\n",
    "y = 2.5 * X.squeeze() + 4 + np.random.normal(scale=3.0, size=100)\n",
    "\n",
    "df = pd.DataFrame({'x': X.squeeze(), 'y': y})\n",
    "df.head()"
   ]
  },
  {
   "cell_type": "code",
   "execution_count": null,
   "id": "1c00d742",
   "metadata": {},
   "outputs": [],
   "source": [
    "# Melatih model regresi linear sederhana\n",
    "model = LinearRegression()\n",
    "model.fit(X, y)\n",
    "y_pred = model.predict(X)\n",
    "\n",
    "coef = model.coef_[0]\n",
    "intercept = model.intercept_\n",
    "r2 = r2_score(y, y_pred)\n",
    "\n",
    "print(f'Koefisien (slope): {coef:.4f}')\n",
    "print(f'Intercept: {intercept:.4f}')\n",
    "print(f'R^2: {r2:.4f}')\n",
    "\n",
    "# Tampilkan beberapa baris aktual vs prediksi\n",
    "pd.DataFrame({'x': X.squeeze(), 'y_actual': y, 'y_pred': y_pred}).head()"
   ]
  },
  {
   "cell_type": "code",
   "execution_count": null,
   "id": "008af9eb",
   "metadata": {},
   "outputs": [],
   "source": [
    "# Visualisasi: scatter actual vs prediksi dan garis prediksi\n",
    "plt.figure(figsize=(8,5))\n",
    "plt.scatter(X, y)\n",
    "plt.plot(X, y_pred)\n",
    "plt.title('Scatter: y actual dan garis prediksi (regresi linear)')\n",
    "plt.xlabel('x')\n",
    "plt.ylabel('y')\n",
    "plt.grid(True)\n",
    "plt.show()"
   ]
  },
  {
   "cell_type": "markdown",
   "id": "41620b79",
   "metadata": {},
   "source": [
    "## Bagian B — Catatan untuk pengumpulan\n",
    "\n",
    "1. Isi identitas pada cell pertama.\n",
    "2. Pastikan semua sel dapat dijalankan tanpa error (Run All).\n",
    "3. Simpan file notebook sebagai `Tugas 1.ipynb`.\n",
    "4. Buat folder `Pertemuan 1` di GitHub repository `GSBT2025` dan upload file `Tugas 1.ipynb` ke folder tersebut (lihat 'Penjelasan Tugas 1.pdf' untuk langkah lengkap)."
   ]
  },
  {
   "cell_type": "markdown",
   "id": "adba958a",
   "metadata": {},
   "source": [
    "## Langkah cepat meng-upload menggunakan antarmuka web GitHub\n",
    "\n",
    "1. Buka repository `GSBT2025` di GitHub Anda.\n",
    "2. Klik `Add file` → `Upload files` pada folder `Pertemuan 1`.\n",
    "3. Pilih file `Tugas 1.ipynb` dari komputer Anda.\n",
    "4. Klik `Commit changes` untuk mengunggah.\n",
    "\n",
    "(Atau gunakan command-line git: `git init`, `git add`, `git commit -m \"add Tugas 1\"`, `git remote add origin <repo-url>`, `git push -u origin main`.)"
   ]
  }
 ],
 "metadata": {},
 "nbformat": 4,
 "nbformat_minor": 5
}
