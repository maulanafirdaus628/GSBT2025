{
 "cells": [
  {
   "cell_type": "markdown",
   "id": "43ae8064",
   "metadata": {},
   "source": [
    "# Tugas 1 - GSBT2025\n",
    "\n",
    "**Nama: Maulana Firdaus** \n",
    "\n",
    "**NIM: M0401241014** \n",
    "\n",
    "**Email: maulanafirdaus628@gmail.com** \n",
    "\n",
    
